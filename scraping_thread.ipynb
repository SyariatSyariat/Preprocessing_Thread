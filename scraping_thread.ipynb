{
  "nbformat": 4,
  "nbformat_minor": 0,
  "metadata": {
    "colab": {
      "provenance": []
    },
    "kernelspec": {
      "name": "python3",
      "display_name": "Python 3"
    },
    "language_info": {
      "name": "python"
    }
  },
  "cells": [
    {
      "cell_type": "markdown",
      "source": [
        " # Scraping from Google Play Store"
      ],
      "metadata": {
        "id": "PKTBs7ghyx4d"
      }
    },
    {
      "cell_type": "code",
      "execution_count": null,
      "metadata": {
        "colab": {
          "base_uri": "https://localhost:8080/"
        },
        "id": "vysqYcZ2zxLv",
        "outputId": "9c5ee42b-6f37-4fd7-f891-42c6e3ceac66"
      },
      "outputs": [
        {
          "output_type": "stream",
          "name": "stdout",
          "text": [
            "        userName  score                                          content  \\\n",
            "0          Fania      5  apk anti toxic sejauh ini, nyaman bgt make nyaa   \n",
            "1    Zay Coustom      5                                    sukses selalu   \n",
            "2     Ngatno Byl      4                                             baik   \n",
            "3   cici Puspita      2                               mantap..... bossss   \n",
            "4  Joko Maryanto      5                                               ok   \n",
            "\n",
            "                   at  \n",
            "0 2025-05-14 07:21:10  \n",
            "1 2025-05-14 06:28:49  \n",
            "2 2025-05-14 05:48:18  \n",
            "3 2025-05-14 05:05:44  \n",
            "4 2025-05-14 03:48:56  \n"
          ]
        }
      ],
      "source": [
        "from google_play_scraper import Sort, reviews\n",
        "import pandas as pd\n",
        "\n",
        "# ID aplikasi Threads (by Instagram)\n",
        "app_id = 'com.instagram.barcelona'\n",
        "\n",
        "# Ambil 500 ulasan\n",
        "ulasan, _ = reviews(\n",
        "    app_id,\n",
        "    lang='id',\n",
        "    country='id',\n",
        "    sort=Sort.NEWEST,\n",
        "    count=500\n",
        ")\n",
        "\n",
        "# Simpan ke DataFrame\n",
        "df = pd.DataFrame(ulasan)\n",
        "\n",
        "# Pilih hanya kolom yang diinginkan\n",
        "df = df[['userName', 'score', 'content', 'at']]\n",
        "\n",
        "# Tampilkan 5 data pertama\n",
        "print(df.head())\n",
        "\n",
        "# Simpan ke file CSV\n",
        "df.to_csv('ulasan2_thread.csv', index=False)"
      ]
    }
  ]
}